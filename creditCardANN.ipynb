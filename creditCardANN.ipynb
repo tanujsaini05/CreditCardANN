{
  "nbformat": 4,
  "nbformat_minor": 0,
  "metadata": {
    "colab": {
      "provenance": [],
      "authorship_tag": "ABX9TyMTUv4y0tbcA4o4IV1RmFXS",
      "include_colab_link": true
    },
    "kernelspec": {
      "name": "python3",
      "display_name": "Python 3"
    },
    "language_info": {
      "name": "python"
    }
  },
  "cells": [
    {
      "cell_type": "markdown",
      "metadata": {
        "id": "view-in-github",
        "colab_type": "text"
      },
      "source": [
        "<a href=\"https://colab.research.google.com/github/tanujsaini05/CreditCardANN/blob/main/creditCardANN.ipynb\" target=\"_parent\"><img src=\"https://colab.research.google.com/assets/colab-badge.svg\" alt=\"Open In Colab\"/></a>"
      ]
    },
    {
      "cell_type": "code",
      "execution_count": null,
      "metadata": {
        "id": "Exu9Z13jfjM-"
      },
      "outputs": [],
      "source": [
        "import numpy as np\n",
        "import pandas as pd"
      ]
    },
    {
      "cell_type": "code",
      "source": [
        "dataset=pd.read_csv('creditcard.csv')"
      ],
      "metadata": {
        "id": "rNSV1lPTfuzO"
      },
      "execution_count": null,
      "outputs": []
    },
    {
      "cell_type": "code",
      "source": [
        "dt=dataset.iloc[:1000,:]"
      ],
      "metadata": {
        "id": "v4AJ-p_9hZJj"
      },
      "execution_count": null,
      "outputs": []
    },
    {
      "cell_type": "code",
      "source": [
        "X,y=dt.iloc[:,:-1],dt.iloc[:,-1]"
      ],
      "metadata": {
        "id": "3pL3VLCcnuSM"
      },
      "execution_count": null,
      "outputs": []
    },
    {
      "cell_type": "code",
      "source": [
        "X"
      ],
      "metadata": {
        "colab": {
          "base_uri": "https://localhost:8080/",
          "height": 487
        },
        "id": "wBE7m_eUn1qs",
        "outputId": "579eeaa1-cc4f-4f21-bf58-0a6fbfe7015f"
      },
      "execution_count": null,
      "outputs": [
        {
          "output_type": "execute_result",
          "data": {
            "text/plain": [
              "     Time        V1        V2        V3        V4        V5        V6  \\\n",
              "0       0 -1.359807 -0.072781  2.536347  1.378155 -0.338321  0.462388   \n",
              "1       0  1.191857  0.266151  0.166480  0.448154  0.060018 -0.082361   \n",
              "2       1 -1.358354 -1.340163  1.773209  0.379780 -0.503198  1.800499   \n",
              "3       1 -0.966272 -0.185226  1.792993 -0.863291 -0.010309  1.247203   \n",
              "4       2 -1.158233  0.877737  1.548718  0.403034 -0.407193  0.095921   \n",
              "..    ...       ...       ...       ...       ...       ...       ...   \n",
              "995   751 -0.654892  0.608319  1.585102 -3.009429  0.037593 -1.954023   \n",
              "996   752 -2.101171 -0.227365  1.624668 -0.291123  1.902446 -1.483921   \n",
              "997   753 -1.248163  0.315246  3.708935  0.687280 -0.873071  1.091287   \n",
              "998   755  1.374134 -1.767210 -0.433352 -2.229552  0.331135  3.924775   \n",
              "999   755 -2.497436  1.402769  0.184840 -2.504117 -0.111803 -0.902909   \n",
              "\n",
              "           V7        V8        V9  ...       V20       V21       V22  \\\n",
              "0    0.239599  0.098698  0.363787  ...  0.251412 -0.018307  0.277838   \n",
              "1   -0.078803  0.085102 -0.255425  ... -0.069083 -0.225775 -0.638672   \n",
              "2    0.791461  0.247676 -1.514654  ...  0.524980  0.247998  0.771679   \n",
              "3    0.237609  0.377436 -1.387024  ... -0.208038 -0.108300  0.005274   \n",
              "4    0.592941 -0.270533  0.817739  ...  0.408542 -0.009431  0.798278   \n",
              "..        ...       ...       ...  ...       ...       ...       ...   \n",
              "995  1.335977 -0.612858  0.690254  ... -0.137097 -0.078527 -0.064194   \n",
              "996 -0.275117  0.085964 -0.563098  ... -0.134549 -0.313782 -0.804784   \n",
              "997  0.297707 -0.633135  1.102317  ...  0.593323 -0.824013  0.057907   \n",
              "998 -2.049947  1.001403 -1.183310  ... -0.068174 -0.252942 -0.461534   \n",
              "999  0.110183 -3.655788  2.231761  ... -0.417931  2.777155 -0.664909   \n",
              "\n",
              "          V23       V24       V25       V26       V27       V28  Amount  \n",
              "0   -0.110474  0.066928  0.128539 -0.189115  0.133558 -0.021053  149.62  \n",
              "1    0.101288 -0.339846  0.167170  0.125895 -0.008983  0.014724    2.69  \n",
              "2    0.909412 -0.689281 -0.327642 -0.139097 -0.055353 -0.059752  378.66  \n",
              "3   -0.190321 -1.175575  0.647376 -0.221929  0.062723  0.061458  123.50  \n",
              "4   -0.137458  0.141267 -0.206010  0.502292  0.219422  0.215153   69.99  \n",
              "..        ...       ...       ...       ...       ...       ...     ...  \n",
              "995 -0.107350  0.961776 -0.067760 -0.549465 -0.232588 -0.108261    3.90  \n",
              "996 -0.474101  0.008102  0.259725  0.032376  0.323580  0.034622    1.78  \n",
              "997 -0.282351  0.630774  0.283506 -0.204264  0.097555 -0.670480   30.00  \n",
              "998 -0.030890  0.997119  0.384299 -0.187538  0.068817  0.038009   82.37  \n",
              "999  0.594689  0.330380  0.064190 -0.110533  0.672165  0.114739    8.00  \n",
              "\n",
              "[1000 rows x 30 columns]"
            ],
            "text/html": [
              "\n",
              "  <div id=\"df-fca2954a-b390-4a04-86e9-fdfb81d74d40\">\n",
              "    <div class=\"colab-df-container\">\n",
              "      <div>\n",
              "<style scoped>\n",
              "    .dataframe tbody tr th:only-of-type {\n",
              "        vertical-align: middle;\n",
              "    }\n",
              "\n",
              "    .dataframe tbody tr th {\n",
              "        vertical-align: top;\n",
              "    }\n",
              "\n",
              "    .dataframe thead th {\n",
              "        text-align: right;\n",
              "    }\n",
              "</style>\n",
              "<table border=\"1\" class=\"dataframe\">\n",
              "  <thead>\n",
              "    <tr style=\"text-align: right;\">\n",
              "      <th></th>\n",
              "      <th>Time</th>\n",
              "      <th>V1</th>\n",
              "      <th>V2</th>\n",
              "      <th>V3</th>\n",
              "      <th>V4</th>\n",
              "      <th>V5</th>\n",
              "      <th>V6</th>\n",
              "      <th>V7</th>\n",
              "      <th>V8</th>\n",
              "      <th>V9</th>\n",
              "      <th>...</th>\n",
              "      <th>V20</th>\n",
              "      <th>V21</th>\n",
              "      <th>V22</th>\n",
              "      <th>V23</th>\n",
              "      <th>V24</th>\n",
              "      <th>V25</th>\n",
              "      <th>V26</th>\n",
              "      <th>V27</th>\n",
              "      <th>V28</th>\n",
              "      <th>Amount</th>\n",
              "    </tr>\n",
              "  </thead>\n",
              "  <tbody>\n",
              "    <tr>\n",
              "      <th>0</th>\n",
              "      <td>0</td>\n",
              "      <td>-1.359807</td>\n",
              "      <td>-0.072781</td>\n",
              "      <td>2.536347</td>\n",
              "      <td>1.378155</td>\n",
              "      <td>-0.338321</td>\n",
              "      <td>0.462388</td>\n",
              "      <td>0.239599</td>\n",
              "      <td>0.098698</td>\n",
              "      <td>0.363787</td>\n",
              "      <td>...</td>\n",
              "      <td>0.251412</td>\n",
              "      <td>-0.018307</td>\n",
              "      <td>0.277838</td>\n",
              "      <td>-0.110474</td>\n",
              "      <td>0.066928</td>\n",
              "      <td>0.128539</td>\n",
              "      <td>-0.189115</td>\n",
              "      <td>0.133558</td>\n",
              "      <td>-0.021053</td>\n",
              "      <td>149.62</td>\n",
              "    </tr>\n",
              "    <tr>\n",
              "      <th>1</th>\n",
              "      <td>0</td>\n",
              "      <td>1.191857</td>\n",
              "      <td>0.266151</td>\n",
              "      <td>0.166480</td>\n",
              "      <td>0.448154</td>\n",
              "      <td>0.060018</td>\n",
              "      <td>-0.082361</td>\n",
              "      <td>-0.078803</td>\n",
              "      <td>0.085102</td>\n",
              "      <td>-0.255425</td>\n",
              "      <td>...</td>\n",
              "      <td>-0.069083</td>\n",
              "      <td>-0.225775</td>\n",
              "      <td>-0.638672</td>\n",
              "      <td>0.101288</td>\n",
              "      <td>-0.339846</td>\n",
              "      <td>0.167170</td>\n",
              "      <td>0.125895</td>\n",
              "      <td>-0.008983</td>\n",
              "      <td>0.014724</td>\n",
              "      <td>2.69</td>\n",
              "    </tr>\n",
              "    <tr>\n",
              "      <th>2</th>\n",
              "      <td>1</td>\n",
              "      <td>-1.358354</td>\n",
              "      <td>-1.340163</td>\n",
              "      <td>1.773209</td>\n",
              "      <td>0.379780</td>\n",
              "      <td>-0.503198</td>\n",
              "      <td>1.800499</td>\n",
              "      <td>0.791461</td>\n",
              "      <td>0.247676</td>\n",
              "      <td>-1.514654</td>\n",
              "      <td>...</td>\n",
              "      <td>0.524980</td>\n",
              "      <td>0.247998</td>\n",
              "      <td>0.771679</td>\n",
              "      <td>0.909412</td>\n",
              "      <td>-0.689281</td>\n",
              "      <td>-0.327642</td>\n",
              "      <td>-0.139097</td>\n",
              "      <td>-0.055353</td>\n",
              "      <td>-0.059752</td>\n",
              "      <td>378.66</td>\n",
              "    </tr>\n",
              "    <tr>\n",
              "      <th>3</th>\n",
              "      <td>1</td>\n",
              "      <td>-0.966272</td>\n",
              "      <td>-0.185226</td>\n",
              "      <td>1.792993</td>\n",
              "      <td>-0.863291</td>\n",
              "      <td>-0.010309</td>\n",
              "      <td>1.247203</td>\n",
              "      <td>0.237609</td>\n",
              "      <td>0.377436</td>\n",
              "      <td>-1.387024</td>\n",
              "      <td>...</td>\n",
              "      <td>-0.208038</td>\n",
              "      <td>-0.108300</td>\n",
              "      <td>0.005274</td>\n",
              "      <td>-0.190321</td>\n",
              "      <td>-1.175575</td>\n",
              "      <td>0.647376</td>\n",
              "      <td>-0.221929</td>\n",
              "      <td>0.062723</td>\n",
              "      <td>0.061458</td>\n",
              "      <td>123.50</td>\n",
              "    </tr>\n",
              "    <tr>\n",
              "      <th>4</th>\n",
              "      <td>2</td>\n",
              "      <td>-1.158233</td>\n",
              "      <td>0.877737</td>\n",
              "      <td>1.548718</td>\n",
              "      <td>0.403034</td>\n",
              "      <td>-0.407193</td>\n",
              "      <td>0.095921</td>\n",
              "      <td>0.592941</td>\n",
              "      <td>-0.270533</td>\n",
              "      <td>0.817739</td>\n",
              "      <td>...</td>\n",
              "      <td>0.408542</td>\n",
              "      <td>-0.009431</td>\n",
              "      <td>0.798278</td>\n",
              "      <td>-0.137458</td>\n",
              "      <td>0.141267</td>\n",
              "      <td>-0.206010</td>\n",
              "      <td>0.502292</td>\n",
              "      <td>0.219422</td>\n",
              "      <td>0.215153</td>\n",
              "      <td>69.99</td>\n",
              "    </tr>\n",
              "    <tr>\n",
              "      <th>...</th>\n",
              "      <td>...</td>\n",
              "      <td>...</td>\n",
              "      <td>...</td>\n",
              "      <td>...</td>\n",
              "      <td>...</td>\n",
              "      <td>...</td>\n",
              "      <td>...</td>\n",
              "      <td>...</td>\n",
              "      <td>...</td>\n",
              "      <td>...</td>\n",
              "      <td>...</td>\n",
              "      <td>...</td>\n",
              "      <td>...</td>\n",
              "      <td>...</td>\n",
              "      <td>...</td>\n",
              "      <td>...</td>\n",
              "      <td>...</td>\n",
              "      <td>...</td>\n",
              "      <td>...</td>\n",
              "      <td>...</td>\n",
              "      <td>...</td>\n",
              "    </tr>\n",
              "    <tr>\n",
              "      <th>995</th>\n",
              "      <td>751</td>\n",
              "      <td>-0.654892</td>\n",
              "      <td>0.608319</td>\n",
              "      <td>1.585102</td>\n",
              "      <td>-3.009429</td>\n",
              "      <td>0.037593</td>\n",
              "      <td>-1.954023</td>\n",
              "      <td>1.335977</td>\n",
              "      <td>-0.612858</td>\n",
              "      <td>0.690254</td>\n",
              "      <td>...</td>\n",
              "      <td>-0.137097</td>\n",
              "      <td>-0.078527</td>\n",
              "      <td>-0.064194</td>\n",
              "      <td>-0.107350</td>\n",
              "      <td>0.961776</td>\n",
              "      <td>-0.067760</td>\n",
              "      <td>-0.549465</td>\n",
              "      <td>-0.232588</td>\n",
              "      <td>-0.108261</td>\n",
              "      <td>3.90</td>\n",
              "    </tr>\n",
              "    <tr>\n",
              "      <th>996</th>\n",
              "      <td>752</td>\n",
              "      <td>-2.101171</td>\n",
              "      <td>-0.227365</td>\n",
              "      <td>1.624668</td>\n",
              "      <td>-0.291123</td>\n",
              "      <td>1.902446</td>\n",
              "      <td>-1.483921</td>\n",
              "      <td>-0.275117</td>\n",
              "      <td>0.085964</td>\n",
              "      <td>-0.563098</td>\n",
              "      <td>...</td>\n",
              "      <td>-0.134549</td>\n",
              "      <td>-0.313782</td>\n",
              "      <td>-0.804784</td>\n",
              "      <td>-0.474101</td>\n",
              "      <td>0.008102</td>\n",
              "      <td>0.259725</td>\n",
              "      <td>0.032376</td>\n",
              "      <td>0.323580</td>\n",
              "      <td>0.034622</td>\n",
              "      <td>1.78</td>\n",
              "    </tr>\n",
              "    <tr>\n",
              "      <th>997</th>\n",
              "      <td>753</td>\n",
              "      <td>-1.248163</td>\n",
              "      <td>0.315246</td>\n",
              "      <td>3.708935</td>\n",
              "      <td>0.687280</td>\n",
              "      <td>-0.873071</td>\n",
              "      <td>1.091287</td>\n",
              "      <td>0.297707</td>\n",
              "      <td>-0.633135</td>\n",
              "      <td>1.102317</td>\n",
              "      <td>...</td>\n",
              "      <td>0.593323</td>\n",
              "      <td>-0.824013</td>\n",
              "      <td>0.057907</td>\n",
              "      <td>-0.282351</td>\n",
              "      <td>0.630774</td>\n",
              "      <td>0.283506</td>\n",
              "      <td>-0.204264</td>\n",
              "      <td>0.097555</td>\n",
              "      <td>-0.670480</td>\n",
              "      <td>30.00</td>\n",
              "    </tr>\n",
              "    <tr>\n",
              "      <th>998</th>\n",
              "      <td>755</td>\n",
              "      <td>1.374134</td>\n",
              "      <td>-1.767210</td>\n",
              "      <td>-0.433352</td>\n",
              "      <td>-2.229552</td>\n",
              "      <td>0.331135</td>\n",
              "      <td>3.924775</td>\n",
              "      <td>-2.049947</td>\n",
              "      <td>1.001403</td>\n",
              "      <td>-1.183310</td>\n",
              "      <td>...</td>\n",
              "      <td>-0.068174</td>\n",
              "      <td>-0.252942</td>\n",
              "      <td>-0.461534</td>\n",
              "      <td>-0.030890</td>\n",
              "      <td>0.997119</td>\n",
              "      <td>0.384299</td>\n",
              "      <td>-0.187538</td>\n",
              "      <td>0.068817</td>\n",
              "      <td>0.038009</td>\n",
              "      <td>82.37</td>\n",
              "    </tr>\n",
              "    <tr>\n",
              "      <th>999</th>\n",
              "      <td>755</td>\n",
              "      <td>-2.497436</td>\n",
              "      <td>1.402769</td>\n",
              "      <td>0.184840</td>\n",
              "      <td>-2.504117</td>\n",
              "      <td>-0.111803</td>\n",
              "      <td>-0.902909</td>\n",
              "      <td>0.110183</td>\n",
              "      <td>-3.655788</td>\n",
              "      <td>2.231761</td>\n",
              "      <td>...</td>\n",
              "      <td>-0.417931</td>\n",
              "      <td>2.777155</td>\n",
              "      <td>-0.664909</td>\n",
              "      <td>0.594689</td>\n",
              "      <td>0.330380</td>\n",
              "      <td>0.064190</td>\n",
              "      <td>-0.110533</td>\n",
              "      <td>0.672165</td>\n",
              "      <td>0.114739</td>\n",
              "      <td>8.00</td>\n",
              "    </tr>\n",
              "  </tbody>\n",
              "</table>\n",
              "<p>1000 rows × 30 columns</p>\n",
              "</div>\n",
              "      <button class=\"colab-df-convert\" onclick=\"convertToInteractive('df-fca2954a-b390-4a04-86e9-fdfb81d74d40')\"\n",
              "              title=\"Convert this dataframe to an interactive table.\"\n",
              "              style=\"display:none;\">\n",
              "        \n",
              "  <svg xmlns=\"http://www.w3.org/2000/svg\" height=\"24px\"viewBox=\"0 0 24 24\"\n",
              "       width=\"24px\">\n",
              "    <path d=\"M0 0h24v24H0V0z\" fill=\"none\"/>\n",
              "    <path d=\"M18.56 5.44l.94 2.06.94-2.06 2.06-.94-2.06-.94-.94-2.06-.94 2.06-2.06.94zm-11 1L8.5 8.5l.94-2.06 2.06-.94-2.06-.94L8.5 2.5l-.94 2.06-2.06.94zm10 10l.94 2.06.94-2.06 2.06-.94-2.06-.94-.94-2.06-.94 2.06-2.06.94z\"/><path d=\"M17.41 7.96l-1.37-1.37c-.4-.4-.92-.59-1.43-.59-.52 0-1.04.2-1.43.59L10.3 9.45l-7.72 7.72c-.78.78-.78 2.05 0 2.83L4 21.41c.39.39.9.59 1.41.59.51 0 1.02-.2 1.41-.59l7.78-7.78 2.81-2.81c.8-.78.8-2.07 0-2.86zM5.41 20L4 18.59l7.72-7.72 1.47 1.35L5.41 20z\"/>\n",
              "  </svg>\n",
              "      </button>\n",
              "      \n",
              "  <style>\n",
              "    .colab-df-container {\n",
              "      display:flex;\n",
              "      flex-wrap:wrap;\n",
              "      gap: 12px;\n",
              "    }\n",
              "\n",
              "    .colab-df-convert {\n",
              "      background-color: #E8F0FE;\n",
              "      border: none;\n",
              "      border-radius: 50%;\n",
              "      cursor: pointer;\n",
              "      display: none;\n",
              "      fill: #1967D2;\n",
              "      height: 32px;\n",
              "      padding: 0 0 0 0;\n",
              "      width: 32px;\n",
              "    }\n",
              "\n",
              "    .colab-df-convert:hover {\n",
              "      background-color: #E2EBFA;\n",
              "      box-shadow: 0px 1px 2px rgba(60, 64, 67, 0.3), 0px 1px 3px 1px rgba(60, 64, 67, 0.15);\n",
              "      fill: #174EA6;\n",
              "    }\n",
              "\n",
              "    [theme=dark] .colab-df-convert {\n",
              "      background-color: #3B4455;\n",
              "      fill: #D2E3FC;\n",
              "    }\n",
              "\n",
              "    [theme=dark] .colab-df-convert:hover {\n",
              "      background-color: #434B5C;\n",
              "      box-shadow: 0px 1px 3px 1px rgba(0, 0, 0, 0.15);\n",
              "      filter: drop-shadow(0px 1px 2px rgba(0, 0, 0, 0.3));\n",
              "      fill: #FFFFFF;\n",
              "    }\n",
              "  </style>\n",
              "\n",
              "      <script>\n",
              "        const buttonEl =\n",
              "          document.querySelector('#df-fca2954a-b390-4a04-86e9-fdfb81d74d40 button.colab-df-convert');\n",
              "        buttonEl.style.display =\n",
              "          google.colab.kernel.accessAllowed ? 'block' : 'none';\n",
              "\n",
              "        async function convertToInteractive(key) {\n",
              "          const element = document.querySelector('#df-fca2954a-b390-4a04-86e9-fdfb81d74d40');\n",
              "          const dataTable =\n",
              "            await google.colab.kernel.invokeFunction('convertToInteractive',\n",
              "                                                     [key], {});\n",
              "          if (!dataTable) return;\n",
              "\n",
              "          const docLinkHtml = 'Like what you see? Visit the ' +\n",
              "            '<a target=\"_blank\" href=https://colab.research.google.com/notebooks/data_table.ipynb>data table notebook</a>'\n",
              "            + ' to learn more about interactive tables.';\n",
              "          element.innerHTML = '';\n",
              "          dataTable['output_type'] = 'display_data';\n",
              "          await google.colab.output.renderOutput(dataTable, element);\n",
              "          const docLink = document.createElement('div');\n",
              "          docLink.innerHTML = docLinkHtml;\n",
              "          element.appendChild(docLink);\n",
              "        }\n",
              "      </script>\n",
              "    </div>\n",
              "  </div>\n",
              "  "
            ]
          },
          "metadata": {},
          "execution_count": 8
        }
      ]
    },
    {
      "cell_type": "code",
      "source": [
        "y"
      ],
      "metadata": {
        "colab": {
          "base_uri": "https://localhost:8080/"
        },
        "id": "aip5bcoxn-p5",
        "outputId": "1dd2d37d-288e-4515-abcb-2138c77ee8ad"
      },
      "execution_count": null,
      "outputs": [
        {
          "output_type": "execute_result",
          "data": {
            "text/plain": [
              "0      0.0\n",
              "1      0.0\n",
              "2      0.0\n",
              "3      0.0\n",
              "4      0.0\n",
              "      ... \n",
              "995    0.0\n",
              "996    0.0\n",
              "997    0.0\n",
              "998    0.0\n",
              "999    0.0\n",
              "Name: Class, Length: 1000, dtype: float64"
            ]
          },
          "metadata": {},
          "execution_count": 9
        }
      ]
    },
    {
      "cell_type": "code",
      "source": [
        "from imblearn.over_sampling import RandomOverSampler"
      ],
      "metadata": {
        "id": "mdEo4nxdhkIG"
      },
      "execution_count": null,
      "outputs": []
    },
    {
      "cell_type": "code",
      "source": [
        "ros=RandomOverSampler(random_state=42)\n",
        "X_res,y_res=ros.fit_resample(X,y)"
      ],
      "metadata": {
        "id": "yM91hjppnkCk"
      },
      "execution_count": null,
      "outputs": []
    },
    {
      "cell_type": "code",
      "source": [
        "from sklearn.model_selection import train_test_split"
      ],
      "metadata": {
        "id": "rzAXu_snoeNV"
      },
      "execution_count": null,
      "outputs": []
    },
    {
      "cell_type": "code",
      "source": [
        "X_train,X_test,y_train,y_test=train_test_split(X,y,test_size=0.3,random_state=34)"
      ],
      "metadata": {
        "id": "xYBi_V4UoeHH"
      },
      "execution_count": null,
      "outputs": []
    },
    {
      "cell_type": "code",
      "source": [
        "from sklearn.preprocessing import MinMaxScaler,StandardScaler"
      ],
      "metadata": {
        "id": "1xnE6QBWoOfA"
      },
      "execution_count": null,
      "outputs": []
    },
    {
      "cell_type": "code",
      "source": [
        "ss=StandardScaler()"
      ],
      "metadata": {
        "id": "cEDbnnk3pkUv"
      },
      "execution_count": null,
      "outputs": []
    },
    {
      "cell_type": "code",
      "source": [
        "mms=MinMaxScaler(feature_range=(0,1))"
      ],
      "metadata": {
        "id": "X4Zr811Hoznu"
      },
      "execution_count": null,
      "outputs": []
    },
    {
      "cell_type": "code",
      "source": [
        "X_train=ss.fit_transform(X_train)"
      ],
      "metadata": {
        "id": "16RrWOBipnnD"
      },
      "execution_count": null,
      "outputs": []
    },
    {
      "cell_type": "code",
      "source": [
        "#X_train=mms.fit_transform(X_train)\n",
        "#y_train=mms.fit_transform(y_train)"
      ],
      "metadata": {
        "id": "bpnDdbKGoVrG"
      },
      "execution_count": null,
      "outputs": []
    },
    {
      "cell_type": "code",
      "source": [
        "X_train"
      ],
      "metadata": {
        "colab": {
          "base_uri": "https://localhost:8080/"
        },
        "id": "u1hMReS7pQk8",
        "outputId": "b6198f58-3533-4d18-c6bd-9df3a6094944"
      },
      "execution_count": null,
      "outputs": [
        {
          "output_type": "execute_result",
          "data": {
            "text/plain": [
              "array([[ 0.89290079, -0.45112331,  0.52470742, ...,  0.85687871,\n",
              "        -0.1897867 , -0.30170228],\n",
              "       [ 1.27601202,  0.84205971, -0.78719325, ..., -0.13590794,\n",
              "         0.19690083,  0.24717852],\n",
              "       [-1.29567714, -0.9553173 ,  0.05334192, ..., -0.31026582,\n",
              "         0.49341866,  0.06396485],\n",
              "       ...,\n",
              "       [-0.04506118,  1.08882556,  0.04363064, ..., -0.11698713,\n",
              "         0.13993681, -0.34067636],\n",
              "       [-1.28246641, -0.33723737, -0.16415288, ..., -0.09141292,\n",
              "        -0.37455282,  0.18463754],\n",
              "       [-0.29606509, -0.61251767,  1.31425456, ...,  0.69656155,\n",
              "         0.74045134, -0.29658344]])"
            ]
          },
          "metadata": {},
          "execution_count": 19
        }
      ]
    },
    {
      "cell_type": "code",
      "source": [
        "X_train.shape"
      ],
      "metadata": {
        "colab": {
          "base_uri": "https://localhost:8080/"
        },
        "id": "OTpzW_Wmsb38",
        "outputId": "23a26fd6-f2cd-4d05-d81d-64d633f5ecb3"
      },
      "execution_count": null,
      "outputs": [
        {
          "output_type": "execute_result",
          "data": {
            "text/plain": [
              "(700, 30)"
            ]
          },
          "metadata": {},
          "execution_count": 20
        }
      ]
    },
    {
      "cell_type": "code",
      "source": [
        "# Starting neural Network"
      ],
      "metadata": {
        "id": "hChJXqqApZFZ"
      },
      "execution_count": null,
      "outputs": []
    },
    {
      "cell_type": "code",
      "source": [
        "import tensorflow as tf"
      ],
      "metadata": {
        "id": "TB2MLQdvp5VG"
      },
      "execution_count": null,
      "outputs": []
    },
    {
      "cell_type": "code",
      "source": [
        "model=tf.keras.Sequential()"
      ],
      "metadata": {
        "id": "En3rNS09LNge"
      },
      "execution_count": null,
      "outputs": []
    },
    {
      "cell_type": "code",
      "source": [
        "from tensorflow.keras import activations\n",
        "\n",
        "model = tf.keras.Sequential()\n",
        "model.add(tf.keras.layers.Dense(40, activation=\"relu\", input_dim=30))\n",
        "model.add(tf.keras.layers.Dense(70, activation='relu'))\n",
        "model.add(tf.keras.layers.Dense(50, activation='relu'))\n",
        "model.add(tf.keras.layers.Dense(1, activation='sigmoid'))"
      ],
      "metadata": {
        "id": "LUWkEwUeLbiY"
      },
      "execution_count": null,
      "outputs": []
    },
    {
      "cell_type": "code",
      "source": [
        "model.compile(optimizer=tf.keras.optimizers.Adam(0.001),loss=tf.keras.losses.BinaryCrossentropy(),metrics=['accuracy'])"
      ],
      "metadata": {
        "id": "0kwQUpvxOOVJ"
      },
      "execution_count": null,
      "outputs": []
    },
    {
      "cell_type": "code",
      "source": [
        "model.summary()"
      ],
      "metadata": {
        "id": "_MB39m-cV_Og",
        "colab": {
          "base_uri": "https://localhost:8080/"
        },
        "outputId": "9f4e63f1-e62a-4be4-d23f-6d3d929c5c1f"
      },
      "execution_count": null,
      "outputs": [
        {
          "output_type": "stream",
          "name": "stdout",
          "text": [
            "Model: \"sequential_1\"\n",
            "_________________________________________________________________\n",
            " Layer (type)                Output Shape              Param #   \n",
            "=================================================================\n",
            " dense (Dense)               (None, 40)                1240      \n",
            "                                                                 \n",
            " dense_1 (Dense)             (None, 70)                2870      \n",
            "                                                                 \n",
            " dense_2 (Dense)             (None, 50)                3550      \n",
            "                                                                 \n",
            " dense_3 (Dense)             (None, 1)                 51        \n",
            "                                                                 \n",
            "=================================================================\n",
            "Total params: 7,711\n",
            "Trainable params: 7,711\n",
            "Non-trainable params: 0\n",
            "_________________________________________________________________\n"
          ]
        }
      ]
    },
    {
      "cell_type": "code",
      "source": [
        "from tensorflow.keras.callbacks import EarlyStopping"
      ],
      "metadata": {
        "id": "RfCYpoNNa0P7"
      },
      "execution_count": null,
      "outputs": []
    },
    {
      "cell_type": "code",
      "source": [
        "early_stop=tf.keras.callbacks.EarlyStopping(\n",
        "    monitor=\"val_loss\",\n",
        "    min_delta=0.0001,\n",
        "    patience=5,\n",
        "    verbose=1,\n",
        "    mode=\"auto\",\n",
        "    baseline=None,\n",
        "    restore_best_weights=False,\n",
        "    start_from_epoch=0,\n",
        ")"
      ],
      "metadata": {
        "id": "1gczbrULbE07"
      },
      "execution_count": null,
      "outputs": []
    },
    {
      "cell_type": "code",
      "source": [
        "model.fit(X_train,y_train,validation_data=(X_test,y_test),epochs=20,callbacks=early_stop,batch_size=32)"
      ],
      "metadata": {
        "colab": {
          "base_uri": "https://localhost:8080/"
        },
        "id": "Rjr5EKF_Qh_Q",
        "outputId": "eb70ff0a-b75d-4c53-f441-9fa6a5e9a953"
      },
      "execution_count": null,
      "outputs": [
        {
          "output_type": "stream",
          "name": "stdout",
          "text": [
            "Epoch 1/20\n",
            "22/22 [==============================] - 2s 16ms/step - loss: 0.3288 - accuracy: 0.9729 - val_loss: 2.8667e-04 - val_accuracy: 1.0000\n",
            "Epoch 2/20\n",
            "22/22 [==============================] - 0s 4ms/step - loss: 0.0683 - accuracy: 0.9971 - val_loss: 3.5647e-05 - val_accuracy: 1.0000\n",
            "Epoch 3/20\n",
            "22/22 [==============================] - 0s 4ms/step - loss: 0.0445 - accuracy: 0.9971 - val_loss: 1.8745e-05 - val_accuracy: 1.0000\n",
            "Epoch 4/20\n",
            "22/22 [==============================] - 0s 4ms/step - loss: 0.0360 - accuracy: 0.9971 - val_loss: 2.4701e-05 - val_accuracy: 1.0000\n",
            "Epoch 5/20\n",
            "22/22 [==============================] - 0s 5ms/step - loss: 0.0282 - accuracy: 0.9971 - val_loss: 1.7195e-05 - val_accuracy: 1.0000\n",
            "Epoch 6/20\n",
            "22/22 [==============================] - 0s 4ms/step - loss: 0.0220 - accuracy: 0.9971 - val_loss: 2.0074e-05 - val_accuracy: 1.0000\n",
            "Epoch 7/20\n",
            "22/22 [==============================] - 0s 4ms/step - loss: 0.0172 - accuracy: 0.9971 - val_loss: 1.6469e-05 - val_accuracy: 1.0000\n",
            "Epoch 7: early stopping\n"
          ]
        },
        {
          "output_type": "execute_result",
          "data": {
            "text/plain": [
              "<keras.callbacks.History at 0x7f79c037bc40>"
            ]
          },
          "metadata": {},
          "execution_count": 29
        }
      ]
    },
    {
      "cell_type": "code",
      "source": [
        "loss, accuracy = model.evaluate(X_test, y_test)"
      ],
      "metadata": {
        "colab": {
          "base_uri": "https://localhost:8080/"
        },
        "id": "o0KAjl_AbLm7",
        "outputId": "23d5b87c-7862-4a16-9631-85f888544917"
      },
      "execution_count": null,
      "outputs": [
        {
          "output_type": "stream",
          "name": "stdout",
          "text": [
            "10/10 [==============================] - 0s 2ms/step - loss: 1.6469e-05 - accuracy: 1.0000\n"
          ]
        }
      ]
    },
    {
      "cell_type": "code",
      "source": [
        "print(loss,accuracy)"
      ],
      "metadata": {
        "colab": {
          "base_uri": "https://localhost:8080/"
        },
        "id": "OxrBVT74cKLx",
        "outputId": "ff2c794c-e95e-4a32-963f-e1e7ad3d07af"
      },
      "execution_count": null,
      "outputs": [
        {
          "output_type": "stream",
          "name": "stdout",
          "text": [
            "1.6469160982524045e-05 1.0\n"
          ]
        }
      ]
    },
    {
      "cell_type": "code",
      "source": [
        "X_train[1,:]"
      ],
      "metadata": {
        "colab": {
          "base_uri": "https://localhost:8080/"
        },
        "id": "pTmBqXsjci4A",
        "outputId": "8aa5ddff-1bd1-4742-91d5-e9f503a44f22"
      },
      "execution_count": null,
      "outputs": [
        {
          "output_type": "execute_result",
          "data": {
            "text/plain": [
              "array([ 1.27601202,  0.84205971, -0.78719325,  0.27114709,  0.0914432 ,\n",
              "       -1.15225119, -0.17499303, -0.75595877,  0.21606328,  1.26932758,\n",
              "       -0.6264684 , -0.32966841,  1.15083945,  0.58754543, -0.46732349,\n",
              "       -0.40400292, -0.43372151,  0.76631506, -1.33749671, -0.07386242,\n",
              "        0.13385722, -0.1880557 , -0.21485977,  0.257486  ,  0.83145499,\n",
              "       -0.26054154,  1.88262455, -0.13590794,  0.19690083,  0.24717852])"
            ]
          },
          "metadata": {},
          "execution_count": 32
        }
      ]
    },
    {
      "cell_type": "code",
      "source": [
        "model.predict([[ 1.27601202,  0.84205971, -0.78719325,  0.27114709,  0.0914432 ,-1.15225119, -0.17499303, -0.75595877,  0.21606328,  1.26932758,-0.6264684 , -0.32966841,  1.15083945,  0.58754543, -0.46732349,-0.40400292, -0.43372151,  0.76631506, -1.33749671, -0.07386242,0.13385722, -0.1880557 , -0.21485977,0.257486,  0.83145499,-0.26054154,  1.88262455, -0.13590794,  0.19690083,  0.24717852]])"
      ],
      "metadata": {
        "colab": {
          "base_uri": "https://localhost:8080/"
        },
        "id": "-S8y5CwlcN4B",
        "outputId": "e807e140-6ffe-466b-b075-7ad4fef20e63"
      },
      "execution_count": null,
      "outputs": [
        {
          "output_type": "stream",
          "name": "stdout",
          "text": [
            "1/1 [==============================] - 0s 111ms/step\n"
          ]
        },
        {
          "output_type": "execute_result",
          "data": {
            "text/plain": [
              "array([[0.00028154]], dtype=float32)"
            ]
          },
          "metadata": {},
          "execution_count": 33
        }
      ]
    },
    {
      "cell_type": "code",
      "source": [
        "prediction=model.predict([[ 5.32000000e+02, -2.08126385e+00,  1.68255833e+00,  6.51263800e-01,-5.33548658e-01,  4.40529215e-01, -1.13732360e-01,  8.75113877e-01,-1.49852238e-01,  1.07760307e+00,  2.23030122e+00,  1.72446870e+00,3.11639406e-01, -2.52562578e-01, -1.10190255e+00,  7.06008442e-01,1.21038721e-01, -3.56188625e-01, -1.25557801e-01, -2.03581005e-01,9.37684099e-01, -5.98398393e-01, -6.25481591e-01,  1.00454588e-01,-3.89908592e-01,  1.33481255e-01,  9.05847152e-02,  6.57235700e-01,2.31941417e-01,  1.79900000e+01]])"
      ],
      "metadata": {
        "colab": {
          "base_uri": "https://localhost:8080/"
        },
        "id": "gOWckkjlc4K1",
        "outputId": "bcdea4d4-b7bd-4ab8-e821-3d21da479623"
      },
      "execution_count": null,
      "outputs": [
        {
          "output_type": "stream",
          "name": "stdout",
          "text": [
            "1/1 [==============================] - 0s 37ms/step\n"
          ]
        }
      ]
    },
    {
      "cell_type": "code",
      "source": [
        "print(prediction)"
      ],
      "metadata": {
        "colab": {
          "base_uri": "https://localhost:8080/"
        },
        "id": "wnfl3Uqogo2t",
        "outputId": "00036dde-585a-42c0-b5f7-f2d507983a40"
      },
      "execution_count": null,
      "outputs": [
        {
          "output_type": "stream",
          "name": "stdout",
          "text": [
            "[[0.]]\n"
          ]
        }
      ]
    },
    {
      "cell_type": "code",
      "source": [],
      "metadata": {
        "id": "ZCDoeu9mh8TQ"
      },
      "execution_count": null,
      "outputs": []
    }
  ]
}